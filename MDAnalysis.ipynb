{
 "cells": [
  {
   "cell_type": "code",
   "execution_count": 1,
   "metadata": {},
   "outputs": [
    {
     "data": {
      "application/vnd.jupyter.widget-view+json": {
       "model_id": "d8b7494805714d4b8b5e7b2443bc732f",
       "version_major": 2,
       "version_minor": 0
      },
      "text/plain": []
     },
     "metadata": {},
     "output_type": "display_data"
    },
    {
     "name": "stdout",
     "output_type": "stream",
     "text": [
      "Using MDAnalysis version 2.1.0\n",
      "Using NGLView version 3.0.3\n"
     ]
    }
   ],
   "source": [
    "import MDAnalysis as mda\n",
    "from MDAnalysis.tests.datafiles import PDB_small\n",
    "import nglview as nv\n",
    "import numpy as np\n",
    "from IPython.core.display import Image\n",
    "\n",
    "print(\"Using MDAnalysis version\", mda.__version__)\n",
    "print(\"Using NGLView version\", nv.__version__)"
   ]
  },
  {
   "cell_type": "code",
   "execution_count": 2,
   "metadata": {},
   "outputs": [
    {
     "name": "stdout",
     "output_type": "stream",
     "text": [
      "resindices: [0 0 0 1 1 1 2 2 2 3]\n",
      "segindices: [0, 0, 0, 0, 0, 0, 0, 0, 0, 0]\n"
     ]
    }
   ],
   "source": [
    "n_residues = 1000\n",
    "n_atoms = n_residues * 3\n",
    "\n",
    "# create resindex list\n",
    "resindices = np.repeat(range(n_residues), 3)\n",
    "assert len(resindices) == n_atoms\n",
    "print(\"resindices:\", resindices[:10])\n",
    "\n",
    "# all water molecules belong to 1 segment\n",
    "segindices = [0] * n_residues\n",
    "print(\"segindices:\", segindices[:10])"
   ]
  },
  {
   "cell_type": "code",
   "execution_count": 3,
   "metadata": {},
   "outputs": [
    {
     "data": {
      "text/plain": [
       "<Universe with 3000 atoms>"
      ]
     },
     "execution_count": 3,
     "metadata": {},
     "output_type": "execute_result"
    }
   ],
   "source": [
    "# create the Universe\n",
    "sol = mda.Universe.empty(n_atoms,\n",
    "                         n_residues=n_residues,\n",
    "                         atom_resindex=resindices,\n",
    "                         residue_segindex=segindices,\n",
    "                         trajectory=True) # necessary for adding coordinates\n",
    "sol"
   ]
  },
  {
   "cell_type": "code",
   "execution_count": 4,
   "metadata": {},
   "outputs": [
    {
     "data": {
      "text/plain": [
       "array(['O', 'H1', 'H2', ..., 'O', 'H1', 'H2'], dtype=object)"
      ]
     },
     "execution_count": 4,
     "metadata": {},
     "output_type": "execute_result"
    }
   ],
   "source": [
    "sol.add_TopologyAttr('name', ['O', 'H1', 'H2']*n_residues)\n",
    "sol.atoms.names"
   ]
  },
  {
   "cell_type": "code",
   "execution_count": 5,
   "metadata": {},
   "outputs": [
    {
     "data": {
      "text/plain": [
       "array(['O', 'H', 'H', ..., 'O', 'H', 'H'], dtype=object)"
      ]
     },
     "execution_count": 5,
     "metadata": {},
     "output_type": "execute_result"
    }
   ],
   "source": [
    "sol.add_TopologyAttr('type', ['O', 'H', 'H']*n_residues)\n",
    "sol.atoms.types"
   ]
  },
  {
   "cell_type": "code",
   "execution_count": 6,
   "metadata": {},
   "outputs": [
    {
     "data": {
      "text/plain": [
       "array(['SOL', 'SOL', 'SOL', ..., 'SOL', 'SOL', 'SOL'], dtype=object)"
      ]
     },
     "execution_count": 6,
     "metadata": {},
     "output_type": "execute_result"
    }
   ],
   "source": [
    "sol.add_TopologyAttr('resname', ['SOL']*n_residues)\n",
    "sol.atoms.resnames"
   ]
  },
  {
   "cell_type": "code",
   "execution_count": 7,
   "metadata": {},
   "outputs": [
    {
     "data": {
      "text/plain": [
       "array([   1,    1,    1, ..., 1000, 1000, 1000])"
      ]
     },
     "execution_count": 7,
     "metadata": {},
     "output_type": "execute_result"
    }
   ],
   "source": [
    "sol.add_TopologyAttr('resid', list(range(1, n_residues+1)))\n",
    "sol.atoms.resids"
   ]
  },
  {
   "cell_type": "code",
   "execution_count": 8,
   "metadata": {},
   "outputs": [
    {
     "data": {
      "text/plain": [
       "array(['SOL', 'SOL', 'SOL', ..., 'SOL', 'SOL', 'SOL'], dtype=object)"
      ]
     },
     "execution_count": 8,
     "metadata": {},
     "output_type": "execute_result"
    }
   ],
   "source": [
    "sol.add_TopologyAttr('segid', ['SOL'])\n",
    "sol.atoms.segids"
   ]
  },
  {
   "cell_type": "code",
   "execution_count": 9,
   "metadata": {},
   "outputs": [],
   "source": [
    "# coordinates obtained by building a molecule in the program IQMol\n",
    "h2o = np.array([[ 0,        0,       0      ],  # oxygen\n",
    "                [ 0.95908, -0.02691, 0.03231],  # hydrogen\n",
    "                [-0.28004, -0.58767, 0.70556]]) # hydrogen"
   ]
  },
  {
   "cell_type": "code",
   "execution_count": 10,
   "metadata": {},
   "outputs": [
    {
     "name": "stdout",
     "output_type": "stream",
     "text": [
      "[array([0., 0., 0.]), array([ 0.95908, -0.02691,  0.03231]), array([-0.28004, -0.58767,  0.70556]), array([8., 0., 0.]), array([ 8.95908, -0.02691,  0.03231]), array([ 7.71996, -0.58767,  0.70556]), array([16.,  0.,  0.]), array([16.95908, -0.02691,  0.03231]), array([15.71996, -0.58767,  0.70556]), array([24.,  0.,  0.])]\n"
     ]
    }
   ],
   "source": [
    "grid_size = 10\n",
    "spacing = 8\n",
    "\n",
    "coordinates = []\n",
    "\n",
    "# translating h2o coordinates around a grid\n",
    "for i in range(n_residues):\n",
    "    x = spacing * (i % grid_size)\n",
    "    y = spacing * ((i // grid_size) % grid_size)\n",
    "    z = spacing * (i // (grid_size * grid_size))\n",
    "\n",
    "    xyz = np.array([x, y, z])\n",
    "\n",
    "    coordinates.extend(h2o + xyz.T)\n",
    "\n",
    "print(coordinates[:10])"
   ]
  },
  {
   "cell_type": "code",
   "execution_count": 11,
   "metadata": {},
   "outputs": [],
   "source": [
    "coord_array = np.array(coordinates)\n",
    "assert coord_array.shape == (n_atoms, 3)\n",
    "sol.atoms.positions = coord_array"
   ]
  },
  {
   "cell_type": "code",
   "execution_count": 12,
   "metadata": {},
   "outputs": [
    {
     "data": {
      "application/vnd.jupyter.widget-view+json": {
       "model_id": "6147e038e9e9480ba4f4059bb9bf7678",
       "version_major": 2,
       "version_minor": 0
      },
      "text/plain": [
       "NGLWidget()"
      ]
     },
     "metadata": {},
     "output_type": "display_data"
    }
   ],
   "source": [
    "sol_view = nv.show_mdanalysis(sol)\n",
    "sol_view.add_representation('ball+stick', selection='all')\n",
    "sol_view.center()\n",
    "sol_view"
   ]
  },
  {
   "cell_type": "code",
   "execution_count": 18,
   "metadata": {},
   "outputs": [],
   "source": [
    "assert not hasattr(sol, 'bonds')"
   ]
  },
  {
   "cell_type": "code",
   "execution_count": 19,
   "metadata": {},
   "outputs": [
    {
     "data": {
      "text/plain": [
       "[(0, 1),\n",
       " (0, 2),\n",
       " (3, 4),\n",
       " (3, 5),\n",
       " (6, 7),\n",
       " (6, 8),\n",
       " (9, 10),\n",
       " (9, 11),\n",
       " (12, 13),\n",
       " (12, 14)]"
      ]
     },
     "execution_count": 19,
     "metadata": {},
     "output_type": "execute_result"
    }
   ],
   "source": [
    "bonds = []\n",
    "for o in range(0, n_atoms, 3):\n",
    "    bonds.extend([(o, o+1), (o, o+2)])\n",
    "\n",
    "bonds[:10]"
   ]
  },
  {
   "cell_type": "code",
   "execution_count": 20,
   "metadata": {},
   "outputs": [
    {
     "data": {
      "text/plain": [
       "<TopologyGroup containing 2000 bonds>"
      ]
     },
     "execution_count": 20,
     "metadata": {},
     "output_type": "execute_result"
    }
   ],
   "source": [
    "sol.add_TopologyAttr('bonds', bonds)\n",
    "sol.bonds"
   ]
  },
  {
   "cell_type": "code",
   "execution_count": 21,
   "metadata": {},
   "outputs": [
    {
     "name": "stdout",
     "output_type": "stream",
     "text": [
      "<TopologyGroup containing 2 bonds>\n",
      "<TopologyGroup containing 7 bonds>\n"
     ]
    }
   ],
   "source": [
    "print(sol.atoms[0].bonds)\n",
    "print(sol.atoms[-10:].bonds)"
   ]
  },
  {
   "cell_type": "code",
   "execution_count": 22,
   "metadata": {},
   "outputs": [
    {
     "name": "stderr",
     "output_type": "stream",
     "text": [
      "C:\\Users\\shamr\\AppData\\Roaming\\Python\\Python39\\site-packages\\MDAnalysis\\topology\\PDBParser.py:317: UserWarning: Element information is missing, elements attribute will not be populated. If needed these can be guessed using MDAnalysis.topology.guessers.\n",
      "  warnings.warn(\"Element information is missing, elements attribute \"\n"
     ]
    },
    {
     "data": {
      "application/vnd.jupyter.widget-view+json": {
       "model_id": "4a8ce1ffac554e7e87b0724169e430f9",
       "version_major": 2,
       "version_minor": 0
      },
      "text/plain": [
       "NGLWidget()"
      ]
     },
     "metadata": {},
     "output_type": "display_data"
    }
   ],
   "source": [
    "protein = mda.Universe(PDB_small)\n",
    "nv.show_mdanalysis(protein)"
   ]
  },
  {
   "cell_type": "code",
   "execution_count": 23,
   "metadata": {},
   "outputs": [
    {
     "name": "stdout",
     "output_type": "stream",
     "text": [
      "Original solvent center of geometry:  [36.22634681 35.79514029 36.24595657]\n",
      "New solvent center of geometry:  [ 2.78155009e-07 -1.27156576e-07  3.97364299e-08]\n"
     ]
    }
   ],
   "source": [
    "cog = sol.atoms.center_of_geometry()\n",
    "print('Original solvent center of geometry: ', cog)\n",
    "sol.atoms.positions -= cog\n",
    "cog2 = sol.atoms.center_of_geometry()\n",
    "print('New solvent center of geometry: ', cog2)"
   ]
  },
  {
   "cell_type": "code",
   "execution_count": 24,
   "metadata": {},
   "outputs": [
    {
     "name": "stdout",
     "output_type": "stream",
     "text": [
      "Original solvent center of geometry:  [-3.66508082  9.60502842 14.33355791]\n",
      "New solvent center of geometry:  [8.30580288e-08 3.49225059e-08 2.51332265e-08]\n"
     ]
    }
   ],
   "source": [
    "cog = protein.atoms.center_of_geometry()\n",
    "print('Original solvent center of geometry: ', cog)\n",
    "protein.atoms.positions -= cog\n",
    "cog2 = protein.atoms.center_of_geometry()\n",
    "print('New solvent center of geometry: ', cog2)"
   ]
  },
  {
   "cell_type": "code",
   "execution_count": 25,
   "metadata": {},
   "outputs": [
    {
     "data": {
      "application/vnd.jupyter.widget-view+json": {
       "model_id": "ff3509a6afc2450bbc76d3f27143f280",
       "version_major": 2,
       "version_minor": 0
      },
      "text/plain": [
       "NGLWidget()"
      ]
     },
     "metadata": {},
     "output_type": "display_data"
    }
   ],
   "source": [
    "combined = mda.Merge(protein.atoms, sol.atoms)\n",
    "combined_view = nv.show_mdanalysis(combined)\n",
    "combined_view.add_representation(\"ball+stick\", selection=\"not protein\")\n",
    "combined_view"
   ]
  },
  {
   "cell_type": "code",
   "execution_count": 26,
   "metadata": {},
   "outputs": [],
   "source": [
    "import MDAnalysis as mda\n",
    "from MDAnalysis.tests.datafiles import TPR, XTC\n",
    "import numpy as np\n",
    "import nglview as nv"
   ]
  },
  {
   "cell_type": "code",
   "execution_count": 27,
   "metadata": {},
   "outputs": [],
   "source": [
    "u = mda.Universe(TPR, XTC, in_memory=True)"
   ]
  },
  {
   "cell_type": "code",
   "execution_count": 28,
   "metadata": {},
   "outputs": [
    {
     "data": {
      "application/vnd.jupyter.widget-view+json": {
       "model_id": "36c822cd1f29427981916ae3c0753d3b",
       "version_major": 2,
       "version_minor": 0
      },
      "text/plain": [
       "NGLWidget(max_frame=9)"
      ]
     },
     "metadata": {},
     "output_type": "display_data"
    }
   ],
   "source": [
    "view = nv.show_mdanalysis(u)\n",
    "view.add_representation('point', 'resname SOL')\n",
    "view.center()\n",
    "view"
   ]
  },
  {
   "cell_type": "code",
   "execution_count": null,
   "metadata": {},
   "outputs": [],
   "source": []
  }
 ],
 "metadata": {
  "interpreter": {
   "hash": "e48b3f1d990cb72d1944944ad3d71627b5fdd5ce06d90b14b58ee0edc9153770"
  },
  "kernelspec": {
   "display_name": "Python 3.9.6 64-bit",
   "language": "python",
   "name": "python3"
  },
  "language_info": {
   "codemirror_mode": {
    "name": "ipython",
    "version": 3
   },
   "file_extension": ".py",
   "mimetype": "text/x-python",
   "name": "python",
   "nbconvert_exporter": "python",
   "pygments_lexer": "ipython3",
   "version": "3.9.6"
  },
  "orig_nbformat": 4
 },
 "nbformat": 4,
 "nbformat_minor": 2
}
